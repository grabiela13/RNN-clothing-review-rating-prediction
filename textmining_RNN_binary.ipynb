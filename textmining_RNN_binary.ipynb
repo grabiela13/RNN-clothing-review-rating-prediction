{
 "cells": [
  {
   "cell_type": "markdown",
   "id": "1dc9afa6-d0ef-400a-85fc-ee6a5b7d5b0f",
   "metadata": {},
   "source": [
    "# Rating Prediction for Women’s <br> E-commerce Clothing Reviews with RNN \n",
    "## Binary classification for the predictions - experiment\n",
    "<br>__Gabriela Ayala__\n"
   ]
  },
  {
   "cell_type": "markdown",
   "id": "68ad1af5-ab85-4574-b9e8-fff4aa88afe5",
   "metadata": {},
   "source": [
    "## RNN using TF-IDF as feature engineering for binary classification \n",
    "Output is between 0 and 1 (0 representing it not being a 5 star review, 1 is a 5 star review)"
   ]
  },
  {
   "cell_type": "code",
   "execution_count": 15,
   "id": "4b2d6a72-007c-4261-8ab2-7a1300806d7a",
   "metadata": {},
   "outputs": [],
   "source": [
    "import numpy as np\n",
    "import pandas as pd\n",
    "import re\n",
    "import string\n",
    "from nltk.corpus import stopwords\n",
    "from sklearn.feature_extraction.text import TfidfVectorizer\n",
    "from sklearn.model_selection import train_test_split\n",
    "import tensorflow as tf"
   ]
  },
  {
   "cell_type": "code",
   "execution_count": 16,
   "id": "3abf8042-bbfc-44ea-a543-3e74dd55dde7",
   "metadata": {},
   "outputs": [],
   "source": [
    "full_df = pd.read_csv('Womens_Clothing_E-Commerce_Reviews.csv', encoding='latin-1')\n",
    "full_df['Review'] = full_df['Title'].fillna('') + ' ' + full_df['Review Text'].fillna('')\n",
    "data = full_df[[\"Review\", \"Rating\"]].copy()"
   ]
  },
  {
   "cell_type": "code",
   "execution_count": 17,
   "id": "ca36014e-8c11-4222-b137-b92350ef2ece",
   "metadata": {},
   "outputs": [],
   "source": [
    "custom_stop_words = set(stopwords.words('english')) - {'no', 'not'}\n",
    "custom_stop_words.update([\n",
    "    'knit', 'lounge', 'trend', 'casual bottom', 'skirt', 'outerwear',\n",
    "    'sweater', 'intimate', 'jacket', 'fine gauge', 'blouse', 'legwear', 'swim',\n",
    "    'pant', 'chemise', 'sleep', 'layering', 'dress', 'jean', 'short', 'top', 'shirt'\n",
    "])\n",
    "\n",
    "def preprocess(text):\n",
    "    if not isinstance(text, str):\n",
    "        return \"\"\n",
    "    text = text.lower()\n",
    "    text = ''.join([char for char in text if char not in string.punctuation])\n",
    "    text = ' '.join([word for word in text.split() if word not in custom_stop_words])\n",
    "    return text"
   ]
  },
  {
   "cell_type": "code",
   "execution_count": 18,
   "id": "d4c17cac-ef22-45e1-8c68-ce40de6d457e",
   "metadata": {},
   "outputs": [],
   "source": [
    "reviews = data['Review'].apply(preprocess)"
   ]
  },
  {
   "cell_type": "code",
   "execution_count": 19,
   "id": "63a29fbe-a1e5-438e-bd7f-6d918d70237d",
   "metadata": {},
   "outputs": [],
   "source": [
    "# Compute TF-IDF features\n",
    "tfidf_vectorizer = TfidfVectorizer(max_features=5000)"
   ]
  },
  {
   "cell_type": "code",
   "execution_count": 20,
   "id": "2a6bf586-88b0-4ac6-8588-c0ae5aaaaee1",
   "metadata": {},
   "outputs": [],
   "source": [
    "tfidf_features = tfidf_vectorizer.fit_transform(reviews).toarray()"
   ]
  },
  {
   "cell_type": "code",
   "execution_count": 21,
   "id": "f261f52d-501a-4333-940b-710d3d9cd1c5",
   "metadata": {},
   "outputs": [],
   "source": [
    "# Reshape TF-IDF features to fit RNN input requirements\n",
    "tfidf_features = tfidf_features.reshape((tfidf_features.shape[0], 1, tfidf_features.shape[1]))"
   ]
  },
  {
   "cell_type": "code",
   "execution_count": 22,
   "id": "6b814f8b-17ff-47d7-9c14-979c2f1ff95b",
   "metadata": {},
   "outputs": [],
   "source": [
    "labels = np.array(data['Rating'].apply(lambda x: 1 if x == 5 else 0))"
   ]
  },
  {
   "cell_type": "code",
   "execution_count": 23,
   "id": "cadd9232-832c-4ff3-990e-c2ccbc9fabc4",
   "metadata": {},
   "outputs": [],
   "source": [
    "train_inputs, test_inputs, train_labels, test_labels = train_test_split(tfidf_features, labels, train_size=0.7, random_state=100)"
   ]
  },
  {
   "cell_type": "code",
   "execution_count": 9,
   "id": "7b6af8ec-aedb-45d7-bd53-04acb9af5df3",
   "metadata": {},
   "outputs": [],
   "source": [
    "embedding_dim = 128\n",
    "inputs_layer = tf.keras.Input(shape=(1, tfidf_features.shape[2]))\n",
    "gru = tf.keras.layers.Bidirectional(tf.keras.layers.GRU(128, return_sequences=True))(inputs_layer)\n",
    "flatten = tf.keras.layers.Flatten()(gru)\n",
    "outputs = tf.keras.layers.Dense(1, activation='sigmoid')(flatten)\n",
    "model = tf.keras.Model(inputs_layer, outputs)"
   ]
  },
  {
   "cell_type": "code",
   "execution_count": 10,
   "id": "10455b28-3cbc-4968-abc3-c336bc17a679",
   "metadata": {},
   "outputs": [
    {
     "name": "stdout",
     "output_type": "stream",
     "text": [
      "Epoch 1/20\n",
      "\u001b[1m411/411\u001b[0m \u001b[32m━━━━━━━━━━━━━━━━━━━━\u001b[0m\u001b[37m\u001b[0m \u001b[1m32s\u001b[0m 59ms/step - accuracy: 0.7168 - loss: 0.5572 - val_accuracy: 0.8072 - val_loss: 0.4324\n",
      "Epoch 2/20\n",
      "\u001b[1m411/411\u001b[0m \u001b[32m━━━━━━━━━━━━━━━━━━━━\u001b[0m\u001b[37m\u001b[0m \u001b[1m22s\u001b[0m 55ms/step - accuracy: 0.8493 - loss: 0.3444 - val_accuracy: 0.8032 - val_loss: 0.4446\n",
      "Epoch 3/20\n",
      "\u001b[1m411/411\u001b[0m \u001b[32m━━━━━━━━━━━━━━━━━━━━\u001b[0m\u001b[37m\u001b[0m \u001b[1m23s\u001b[0m 55ms/step - accuracy: 0.8704 - loss: 0.3091 - val_accuracy: 0.7950 - val_loss: 0.4821\n",
      "Epoch 4/20\n",
      "\u001b[1m411/411\u001b[0m \u001b[32m━━━━━━━━━━━━━━━━━━━━\u001b[0m\u001b[37m\u001b[0m \u001b[1m23s\u001b[0m 55ms/step - accuracy: 0.8872 - loss: 0.2821 - val_accuracy: 0.7865 - val_loss: 0.5245\n",
      "Epoch 5/20\n",
      "\u001b[1m411/411\u001b[0m \u001b[32m━━━━━━━━━━━━━━━━━━━━\u001b[0m\u001b[37m\u001b[0m \u001b[1m24s\u001b[0m 57ms/step - accuracy: 0.8943 - loss: 0.2672 - val_accuracy: 0.7792 - val_loss: 0.5771\n",
      "Epoch 6/20\n",
      "\u001b[1m411/411\u001b[0m \u001b[32m━━━━━━━━━━━━━━━━━━━━\u001b[0m\u001b[37m\u001b[0m \u001b[1m23s\u001b[0m 56ms/step - accuracy: 0.9036 - loss: 0.2486 - val_accuracy: 0.7728 - val_loss: 0.6035\n"
     ]
    }
   ],
   "source": [
    "model.compile(optimizer='adam', \n",
    "              loss='binary_crossentropy', \n",
    "              metrics=['accuracy'])\n",
    "\n",
    "# Train the model\n",
    "history = model.fit(train_inputs, train_labels, validation_split=0.2, \n",
    "                    batch_size=32, epochs=20,\n",
    "                    callbacks=[tf.keras.callbacks.EarlyStopping(\n",
    "                        monitor='val_accuracy', \n",
    "                        patience=5, \n",
    "                        restore_best_weights=True)])"
   ]
  },
  {
   "cell_type": "code",
   "execution_count": 11,
   "id": "b05ea10b-55e7-4a2e-af10-6daf6eb1b131",
   "metadata": {},
   "outputs": [
    {
     "name": "stdout",
     "output_type": "stream",
     "text": [
      "\u001b[1m221/221\u001b[0m \u001b[32m━━━━━━━━━━━━━━━━━━━━\u001b[0m\u001b[37m\u001b[0m \u001b[1m1s\u001b[0m 4ms/step - accuracy: 0.8160 - loss: 0.4276\n"
     ]
    },
    {
     "data": {
      "text/plain": [
       "[0.42935043573379517, 0.8123758435249329]"
      ]
     },
     "execution_count": 11,
     "metadata": {},
     "output_type": "execute_result"
    }
   ],
   "source": [
    "# Evaluate the model\n",
    "model.evaluate(test_inputs, test_labels)"
   ]
  },
  {
   "cell_type": "code",
   "execution_count": 24,
   "id": "eb1b715f-8620-4c93-88e8-66d42ebd04c2",
   "metadata": {},
   "outputs": [],
   "source": [
    "import pickle"
   ]
  },
  {
   "cell_type": "code",
   "execution_count": null,
   "id": "193b46b7-3978-495e-b4df-129c73d0f1af",
   "metadata": {},
   "outputs": [],
   "source": [
    "model_pkl_file = \"rnn_tfidf_binary.pkl\"  \n",
    "\n",
    "with open(model_pkl_file, 'wb') as file:  \n",
    "    pickle.dump(model, file)"
   ]
  },
  {
   "cell_type": "code",
   "execution_count": 25,
   "id": "0d9fc474-a886-495c-893c-151e624b0922",
   "metadata": {},
   "outputs": [],
   "source": [
    "with open(\"rnn_tfidf_binary.pkl\", 'rb') as file:  \n",
    "    model = pickle.load(file)"
   ]
  },
  {
   "cell_type": "code",
   "execution_count": 26,
   "id": "cb1dd88b-c7c4-4847-8f0b-e95e2d24afae",
   "metadata": {},
   "outputs": [
    {
     "name": "stdout",
     "output_type": "stream",
     "text": [
      "\u001b[1m1/1\u001b[0m \u001b[32m━━━━━━━━━━━━━━━━━━━━\u001b[0m\u001b[37m\u001b[0m \u001b[1m4s\u001b[0m 4s/step\n",
      "Not a 5 stars review\n",
      "Prediction (raw): 0.3713\n"
     ]
    }
   ],
   "source": [
    "example_sentence = \"This dress is really beautiful but the sizes are innacurate. it doesnt fit me!\"\n",
    "preprocessed_sentence = preprocess(example_sentence)\n",
    "tfidf_example = tfidf_vectorizer.transform([preprocessed_sentence]).toarray()\n",
    "tfidf_example = tfidf_example.reshape((tfidf_example.shape[0], 1, tfidf_example.shape[1]))\n",
    "prediction = model.predict(tfidf_example)\n",
    "predicted_class = 1 if prediction[0][0] >= 0.5 else 0\n",
    "\n",
    "if predicted_class == 1:\n",
    "    print(f\"Likely a 5 stars review\")\n",
    "else:\n",
    "    print(f\"Not a 5 stars review\")\n",
    "\n",
    "print(f\"Prediction (raw): {prediction[0][0]:.4f}\")"
   ]
  },
  {
   "cell_type": "markdown",
   "id": "49fcd596-dd08-4c2a-b073-6beedd3c9c58",
   "metadata": {},
   "source": [
    "## RNN using word embedding as feature engineering for binary classification "
   ]
  },
  {
   "cell_type": "code",
   "execution_count": null,
   "id": "9c2b5f17-4258-4520-8a07-67209377b0e0",
   "metadata": {},
   "outputs": [],
   "source": [
    "num_words = 10000\n",
    "\n",
    "tokenizer = Tokenizer(num_words=num_words)\n",
    "tokenizer.fit_on_texts(reviews)\n",
    "\n",
    "sequences = tokenizer.texts_to_sequences(reviews)"
   ]
  },
  {
   "cell_type": "code",
   "execution_count": null,
   "id": "43f508b4-1a64-4f00-976c-c1d99e34d49c",
   "metadata": {},
   "outputs": [],
   "source": [
    "max_seq_length = np.max(list(map(lambda x: len(x), sequences)))\n",
    "\n",
    "print(\"Max sequence length:\", max_seq_length)"
   ]
  },
  {
   "cell_type": "code",
   "execution_count": null,
   "id": "8b95ce1f-a5c5-48d7-9c47-d39892fe3824",
   "metadata": {},
   "outputs": [],
   "source": [
    "inputs = pad_sequences(sequences, maxlen=max_seq_length, padding='post')"
   ]
  },
  {
   "cell_type": "code",
   "execution_count": null,
   "id": "4ac72e98-9219-4865-930f-08f73574ebf4",
   "metadata": {},
   "outputs": [],
   "source": [
    "labels = np.array(data['Rating'].apply(lambda x: 1 if x == 5 else 0))"
   ]
  },
  {
   "cell_type": "code",
   "execution_count": null,
   "id": "5d339b5b-e1b0-4da1-afeb-b13dc11af687",
   "metadata": {},
   "outputs": [],
   "source": [
    "train_inputs, test_inputs, train_labels, test_labels = train_test_split(inputs, labels, train_size=0.7, random_state=100, stratify=labels)"
   ]
  },
  {
   "cell_type": "code",
   "execution_count": null,
   "id": "81b619fd-3240-495f-8fd7-2a42a5874224",
   "metadata": {},
   "outputs": [],
   "source": [
    "embedding_dim = 128\n",
    "inputs_layer = tf.keras.Input(shape=(max_seq_length,))\n",
    "embedding = tf.keras.layers.Embedding(input_dim=num_words, output_dim=embedding_dim, input_length=max_seq_length)(inputs_layer)\n",
    "gru = tf.keras.layers.Bidirectional(tf.keras.layers.GRU(128, return_sequences=True))(embedding)\n",
    "flatten = tf.keras.layers.Flatten()(gru)\n",
    "outputs = tf.keras.layers.Dense(1, activation='sigmoid')(flatten)\n",
    "model = tf.keras.Model(inputs_layer, outputs)"
   ]
  },
  {
   "cell_type": "code",
   "execution_count": null,
   "id": "cf66c4db-b771-443f-87a7-102ca3f01125",
   "metadata": {},
   "outputs": [],
   "source": [
    "model.compile(optimizer='adam', \n",
    "              loss='binary_crossentropy', \n",
    "              metrics=['accuracy'])\n",
    "\n",
    "# Train the model\n",
    "history = model.fit(train_inputs, train_labels, validation_split=0.2, \n",
    "                    batch_size=32, epochs=20,\n",
    "                    callbacks=[tf.keras.callbacks.EarlyStopping(\n",
    "                        monitor='val_accuracy', \n",
    "                        patience=5, \n",
    "                        restore_best_weights=True)])"
   ]
  },
  {
   "cell_type": "code",
   "execution_count": null,
   "id": "290968b3-0495-40ed-a4fd-ddbfed711951",
   "metadata": {},
   "outputs": [],
   "source": [
    "model.evaluate(test_inputs, test_labels)"
   ]
  },
  {
   "cell_type": "code",
   "execution_count": null,
   "id": "30c5877f-0af3-4f39-8c91-9566939ee0e4",
   "metadata": {},
   "outputs": [],
   "source": [
    "import pickle\n",
    "model_pkl_file = \"rnn_we_binary.pkl\"  \n",
    "\n",
    "with open(model_pkl_file, 'wb') as file:  \n",
    "    pickle.dump(model, file)"
   ]
  },
  {
   "cell_type": "code",
   "execution_count": null,
   "id": "3152c3a3-9049-47c8-96cd-0b17e38116db",
   "metadata": {},
   "outputs": [],
   "source": [
    "with open(model_pkl_file, 'rb') as file:  \n",
    "    model = pickle.load(file)"
   ]
  }
 ],
 "metadata": {
  "kernelspec": {
   "display_name": "Python 3 (ipykernel)",
   "language": "python",
   "name": "python3"
  },
  "language_info": {
   "codemirror_mode": {
    "name": "ipython",
    "version": 3
   },
   "file_extension": ".py",
   "mimetype": "text/x-python",
   "name": "python",
   "nbconvert_exporter": "python",
   "pygments_lexer": "ipython3",
   "version": "3.12.9"
  }
 },
 "nbformat": 4,
 "nbformat_minor": 5
}
