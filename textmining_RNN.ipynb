{
 "cells": [
  {
   "cell_type": "markdown",
   "id": "302c178d-1570-44f4-817f-137706cb4315",
   "metadata": {},
   "source": [
    "# Rating Prediction for Women’s <br> E-commerce Clothing Reviews with RNN \n",
    "<br>__Gabriela Ayala__\r\n"
   ]
  },
  {
   "cell_type": "markdown",
   "id": "1d415e88-4fb8-4fa1-9031-5cfab0ed2dc0",
   "metadata": {},
   "source": [
    "## RNN using TF-IDF as feature engineering"
   ]
  },
  {
   "cell_type": "markdown",
   "id": "5b91c4c3-3631-494c-ad62-a21424638ac4",
   "metadata": {},
   "source": [
    "Output is a value between 0 and 1 representing the rating "
   ]
  },
  {
   "cell_type": "code",
   "execution_count": null,
   "id": "4b2d6a72-007c-4261-8ab2-7a1300806d7a",
   "metadata": {},
   "outputs": [],
   "source": [
    "import numpy as np\n",
    "import pandas as pd\n",
    "import re\n",
    "import string\n",
    "from nltk.corpus import stopwords\n",
    "from sklearn.feature_extraction.text import TfidfVectorizer\n",
    "from sklearn.model_selection import train_test_split\n",
    "import tensorflow as tf"
   ]
  },
  {
   "cell_type": "code",
   "execution_count": null,
   "id": "3abf8042-bbfc-44ea-a543-3e74dd55dde7",
   "metadata": {},
   "outputs": [],
   "source": [
    "full_df = pd.read_csv('Womens_Clothing_E-Commerce_Reviews.csv', encoding='latin-1')\n",
    "full_df['Review'] = full_df['Title'].fillna('') + ' ' + full_df['Review Text'].fillna('')\n",
    "data = full_df[[\"Review\", \"Rating\"]].copy()"
   ]
  },
  {
   "cell_type": "code",
   "execution_count": null,
   "id": "ca36014e-8c11-4222-b137-b92350ef2ece",
   "metadata": {},
   "outputs": [],
   "source": [
    "custom_stop_words = set(stopwords.words('english')) - {'no', 'not'}\n",
    "custom_stop_words.update([\n",
    "    'knit', 'lounge', 'trend', 'casual bottom', 'skirt', 'outerwear',\n",
    "    'sweater', 'intimate', 'jacket', 'fine gauge', 'blouse', 'legwear', 'swim',\n",
    "    'pant', 'chemise', 'sleep', 'layering', 'dress', 'jean', 'short', 'top', 'shirt'\n",
    "])\n",
    "\n",
    "def preprocess(text):\n",
    "    if not isinstance(text, str):\n",
    "        return \"\"\n",
    "    text = text.lower()\n",
    "    text = ''.join([char for char in text if char not in string.punctuation])\n",
    "    text = ' '.join([word for word in text.split() if word not in custom_stop_words])\n",
    "    return text"
   ]
  },
  {
   "cell_type": "code",
   "execution_count": null,
   "id": "d4c17cac-ef22-45e1-8c68-ce40de6d457e",
   "metadata": {},
   "outputs": [],
   "source": [
    "reviews = data['Review'].apply(preprocess)"
   ]
  },
  {
   "cell_type": "code",
   "execution_count": null,
   "id": "abb03d22-c074-4f00-b37b-7889b4289455",
   "metadata": {},
   "outputs": [],
   "source": [
    "# Compute TF-IDF features\n",
    "tfidf_vectorizer = TfidfVectorizer(max_features=10000)\n",
    "tfidf_features = tfidf_vectorizer.fit_transform(reviews).toarray()"
   ]
  },
  {
   "cell_type": "code",
   "execution_count": null,
   "id": "f261f52d-501a-4333-940b-710d3d9cd1c5",
   "metadata": {},
   "outputs": [],
   "source": [
    "# Reshape TF-IDF features to fit RNN input requirements\n",
    "tfidf_features = tfidf_features.reshape((tfidf_features.shape[0], 1, tfidf_features.shape[1]))"
   ]
  },
  {
   "cell_type": "code",
   "execution_count": null,
   "id": "a390cb56-4188-4770-9d3f-7548d882cf65",
   "metadata": {},
   "outputs": [],
   "source": [
    "labels = (data['Rating'] - 1) / 4.0"
   ]
  },
  {
   "cell_type": "code",
   "execution_count": null,
   "id": "cadd9232-832c-4ff3-990e-c2ccbc9fabc4",
   "metadata": {},
   "outputs": [],
   "source": [
    "train_inputs, test_inputs, train_labels, test_labels = train_test_split(tfidf_features, labels, train_size=0.7, random_state=100)"
   ]
  },
  {
   "cell_type": "code",
   "execution_count": null,
   "id": "7b6af8ec-aedb-45d7-bd53-04acb9af5df3",
   "metadata": {},
   "outputs": [],
   "source": [
    "embedding_dim = 128\n",
    "inputs_layer = tf.keras.Input(shape=(1, tfidf_features.shape[2]))\n",
    "gru = tf.keras.layers.Bidirectional(tf.keras.layers.GRU(128, return_sequences=True))(inputs_layer)\n",
    "flatten = tf.keras.layers.Flatten()(gru)\n",
    "outputs = tf.keras.layers.Dense(1, activation='sigmoid')(flatten)\n",
    "model = tf.keras.Model(inputs_layer, outputs)"
   ]
  },
  {
   "cell_type": "code",
   "execution_count": null,
   "id": "c1741126-f58d-4c10-8a86-6c27c83ec927",
   "metadata": {},
   "outputs": [],
   "source": [
    "model.compile(optimizer='adam', \n",
    "              loss='mean_squared_error', metrics=['mae'])\n",
    "\n",
    "# Train model\n",
    "history = model.fit(train_inputs, train_labels, validation_split=0.2, \n",
    "                    batch_size=32, epochs=20,\n",
    "                    callbacks=[tf.keras.callbacks.EarlyStopping(\n",
    "                        monitor='val_mae', \n",
    "                        patience=5, \n",
    "                        restore_best_weights=True)])\n"
   ]
  },
  {
   "cell_type": "code",
   "execution_count": null,
   "id": "b2620a5e-2ced-4f3f-bbff-caa893380549",
   "metadata": {},
   "outputs": [],
   "source": [
    "loss, mae = model.evaluate(test_inputs, test_labels)\n",
    "print(f\"mae = {mae:.4f}\")"
   ]
  },
  {
   "cell_type": "code",
   "execution_count": null,
   "id": "cb1dd88b-c7c4-4847-8f0b-e95e2d24afae",
   "metadata": {},
   "outputs": [],
   "source": [
    "example_sentence = \"Very beautiful dress\"\n",
    "preprocessed_sentence = preprocess(example_sentence)\n",
    "tfidf_example = tfidf_vectorizer.transform([preprocessed_sentence]).toarray()\n",
    "tfidf_example = tfidf_example.reshape((tfidf_example.shape[0], 1, tfidf_example.shape[1]))\n",
    "prediction = model.predict(tfidf_example)\n",
    "predicted_rating = round(prediction[0][0] * 4.0 + 1.0)\n",
    "\n",
    "full_star = \"★\"\n",
    "empty_star = \"☆\"\n",
    "print(f\"Predicted rating: {predicted_rating * full_star}{(5 - predicted_rating) * empty_star}\")\n",
    "print(f\"Prediction (raw): {prediction[0][0]}\")"
   ]
  },
  {
   "cell_type": "markdown",
   "id": "a89bd181-d424-4f22-803e-1a4680c698f3",
   "metadata": {},
   "source": [
    "## RNN using word embedding as feature engineering"
   ]
  },
  {
   "cell_type": "code",
   "execution_count": null,
   "id": "39f193da-8dec-4faf-a229-3974fcb3b7c3",
   "metadata": {},
   "outputs": [],
   "source": [
    "from tensorflow.keras.preprocessing.text import Tokenizer\n",
    "from tensorflow.keras.preprocessing.sequence import pad_sequences"
   ]
  },
  {
   "cell_type": "code",
   "execution_count": null,
   "id": "8151d3f0-a45d-4a43-88cb-0f2eb47f6e84",
   "metadata": {},
   "outputs": [],
   "source": [
    "num_words = 10000\n",
    "\n",
    "tokenizer = Tokenizer(num_words=num_words)\n",
    "tokenizer.fit_on_texts(reviews)\n",
    "\n",
    "sequences = tokenizer.texts_to_sequences(reviews)"
   ]
  },
  {
   "cell_type": "code",
   "execution_count": null,
   "id": "d6ea946b-07ae-4524-8747-2b1ba51af397",
   "metadata": {},
   "outputs": [],
   "source": [
    "max_seq_length = np.max(list(map(lambda x: len(x), sequences)))\n",
    "\n",
    "print(\"Max sequence length:\", max_seq_length)"
   ]
  },
  {
   "cell_type": "code",
   "execution_count": null,
   "id": "38adc0b0-9e76-49b4-bba7-669c29a875b0",
   "metadata": {},
   "outputs": [],
   "source": [
    "inputs = pad_sequences(sequences, maxlen=max_seq_length, padding='post')"
   ]
  },
  {
   "cell_type": "code",
   "execution_count": null,
   "id": "a2647579-57d7-41f5-a3b4-30266044491c",
   "metadata": {},
   "outputs": [],
   "source": [
    "labels = (data['Rating'] - 1) / 4.0"
   ]
  },
  {
   "cell_type": "code",
   "execution_count": null,
   "id": "bea04726-3958-4886-aa88-48cc80294cad",
   "metadata": {},
   "outputs": [],
   "source": [
    "train_inputs, test_inputs, train_labels, test_labels = train_test_split(inputs, labels, train_size=0.7, random_state=100, stratify=labels)"
   ]
  },
  {
   "cell_type": "code",
   "execution_count": null,
   "id": "61abb319-b862-4d97-8fb6-6168223710a0",
   "metadata": {},
   "outputs": [],
   "source": [
    "embedding_dim = 128\n",
    "inputs_layer = tf.keras.Input(shape=(max_seq_length,))\n",
    "embedding = tf.keras.layers.Embedding(input_dim=num_words, output_dim=embedding_dim, input_length=max_seq_length)(inputs_layer)\n",
    "gru = tf.keras.layers.Bidirectional(tf.keras.layers.GRU(128, return_sequences=True))(embedding)\n",
    "flatten = tf.keras.layers.Flatten()(gru)\n",
    "outputs = tf.keras.layers.Dense(1, activation='sigmoid')(flatten)\n",
    "model = tf.keras.Model(inputs_layer, outputs)"
   ]
  },
  {
   "cell_type": "code",
   "execution_count": null,
   "id": "ed01cd9f-74b1-4a72-86e3-049d3ec60a11",
   "metadata": {},
   "outputs": [],
   "source": [
    "model.compile(optimizer='adam', \n",
    "              loss='mean_squared_error', metrics=['mae'])\n",
    "\n",
    "# Train model\n",
    "history = model.fit(train_inputs, train_labels, validation_split=0.2, \n",
    "                    batch_size=32, epochs=20,\n",
    "                    callbacks=[tf.keras.callbacks.EarlyStopping(\n",
    "                        monitor='val_mae', \n",
    "                        patience=5, \n",
    "                        restore_best_weights=True)])"
   ]
  }
 ],
 "metadata": {
  "kernelspec": {
   "display_name": "Python 3 (ipykernel)",
   "language": "python",
   "name": "python3"
  },
  "language_info": {
   "codemirror_mode": {
    "name": "ipython",
    "version": 3
   },
   "file_extension": ".py",
   "mimetype": "text/x-python",
   "name": "python",
   "nbconvert_exporter": "python",
   "pygments_lexer": "ipython3",
   "version": "3.12.9"
  }
 },
 "nbformat": 4,
 "nbformat_minor": 5
}
